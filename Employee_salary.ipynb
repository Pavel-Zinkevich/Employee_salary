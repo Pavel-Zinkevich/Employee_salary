{
  "nbformat": 4,
  "nbformat_minor": 0,
  "metadata": {
    "colab": {
      "provenance": [],
      "gpuType": "T4",
      "include_colab_link": true
    },
    "kernelspec": {
      "name": "python3",
      "display_name": "Python 3"
    },
    "language_info": {
      "name": "python"
    },
    "accelerator": "GPU"
  },
  "cells": [
    {
      "cell_type": "markdown",
      "metadata": {
        "id": "view-in-github",
        "colab_type": "text"
      },
      "source": [
        "<a href=\"https://colab.research.google.com/github/Pavel-Zinkevich/Employee_salary/blob/main/Employee_salary.ipynb\" target=\"_parent\"><img src=\"https://colab.research.google.com/assets/colab-badge.svg\" alt=\"Open In Colab\"/></a>"
      ]
    },
    {
      "cell_type": "markdown",
      "source": [
        "# 💼 Salary Prediction Project\n",
        "\n",
        "A machine learning project for predicting employee salaries based on various features such as age, experience, job title, department, education level, and location.\n",
        "\n",
        "## 🔍 What This Project Does\n",
        "\n",
        "This notebook demonstrates how to:\n",
        "\n",
        "- ✅ Prepare and preprocess employee data\n",
        "- ✅ Train and evaluate **Linear Regression** and **XGBoost Regressor** models\n",
        "- ✅ Compare their performance using **MSE** and **R²**\n",
        "- ✅ Build **interactive widgets** to predict salary from user input\n",
        "- ✅ Visualize salary distribution across locations with **Plotly graphs**"
      ],
      "metadata": {
        "id": "cQJcDmlOz8d0"
      }
    },
    {
      "cell_type": "markdown",
      "source": [
        "#Libraries and data import"
      ],
      "metadata": {
        "id": "odwr_stgYbUi"
      }
    },
    {
      "cell_type": "code",
      "execution_count": 6,
      "metadata": {
        "id": "qKJCGe1ZaFnP",
        "collapsed": true
      },
      "outputs": [],
      "source": [
        "#!pip install opendatasets"
      ]
    },
    {
      "cell_type": "code",
      "source": [
        "#import opendatasets as od\n",
        "import pandas as pd\n",
        "import xgboost as xgb\n",
        "from sklearn.model_selection import train_test_split\n",
        "from sklearn.metrics import mean_squared_error\n",
        "from sklearn.model_selection import train_test_split\n",
        "from sklearn.linear_model import LinearRegression\n",
        "from sklearn.metrics import mean_squared_error\n",
        "from sklearn.metrics import r2_score\n",
        "import matplotlib.pyplot as plt\n",
        "import seaborn as sns\n",
        "import plotly.express as px\n",
        "from sklearn.preprocessing import OneHotEncoder\n",
        "from sklearn.compose import ColumnTransformer\n",
        "from sklearn.linear_model import LinearRegression\n",
        "from sklearn.pipeline import Pipeline\n",
        "import ipywidgets as widgets\n",
        "from IPython.display import display, clear_output\n",
        "\n",
        "import kagglehub\n",
        "import os"
      ],
      "metadata": {
        "id": "GuGe4x9iatzr"
      },
      "execution_count": 1,
      "outputs": []
    },
    {
      "cell_type": "code",
      "source": [
        "# Download latest version\n",
        "path = kagglehub.dataset_download(\"gmudit/employer-data\")\n",
        "\n",
        "print(\"Path to dataset files:\", path)"
      ],
      "metadata": {
        "colab": {
          "base_uri": "https://localhost:8080/"
        },
        "id": "ifnuAuZ31NJE",
        "outputId": "107cdbca-8b6a-4ab2-d53b-a0dd02fcff1a"
      },
      "execution_count": 2,
      "outputs": [
        {
          "output_type": "stream",
          "name": "stdout",
          "text": [
            "Downloading from https://www.kaggle.com/api/v1/datasets/download/gmudit/employer-data?dataset_version_number=1...\n"
          ]
        },
        {
          "output_type": "stream",
          "name": "stderr",
          "text": [
            "100%|██████████| 163k/163k [00:00<00:00, 44.0MB/s]"
          ]
        },
        {
          "output_type": "stream",
          "name": "stdout",
          "text": [
            "Extracting files...\n",
            "Path to dataset files: /root/.cache/kagglehub/datasets/gmudit/employer-data/versions/1\n"
          ]
        },
        {
          "output_type": "stream",
          "name": "stderr",
          "text": [
            "\n"
          ]
        }
      ]
    },
    {
      "cell_type": "code",
      "source": [
        "print(os.listdir(path))\n",
        "csv_path = os.path.join(path, \"Employers_data.csv\")"
      ],
      "metadata": {
        "colab": {
          "base_uri": "https://localhost:8080/"
        },
        "id": "t5zItGeA1nSY",
        "outputId": "8aa4462d-41d2-4d7c-e709-76dc82ddd324"
      },
      "execution_count": 3,
      "outputs": [
        {
          "output_type": "stream",
          "name": "stdout",
          "text": [
            "['Employers_data.csv']\n"
          ]
        }
      ]
    },
    {
      "cell_type": "code",
      "source": [
        "#od.download(\"https://www.kaggle.com/datasets/gmudit/employer-data\")"
      ],
      "metadata": {
        "id": "-p_SCr7eavLx"
      },
      "execution_count": 7,
      "outputs": []
    },
    {
      "cell_type": "code",
      "source": [
        "#df = pd.read_csv(\"employer-data/Employers_data.csv\")\n",
        "df = pd.read_csv(csv_path)"
      ],
      "metadata": {
        "id": "C57cXdRDaymd"
      },
      "execution_count": 4,
      "outputs": []
    },
    {
      "cell_type": "markdown",
      "source": [
        "📊 Employee Salary Dataset\n",
        "This synthetic dataset has been created for educational purposes and is ideal for exploring regression modeling. It includes realistic employee information with consistent relationships between features such as education level, job title, experience, and salary.\n",
        "\n",
        "🧾 Dataset Summary\n",
        "Property\tDescription\n",
        "Rows\t10,000\n",
        "Target Variable\tSalary (or another column as needed)\n",
        "Use Case\tRegression, EDA, feature engineering, model evaluation, fairness analysis\n",
        "\n",
        "📌 Features\n",
        "\n",
        "| Column            | Type        | Description                                                                 |\n",
        "|-------------------|-------------|-----------------------------------------------------------------------------|\n",
        "| `Employee_ID`     | Integer     | Unique identifier for each employee                                         |\n",
        "| `Name`            | String      | Full name (gender-aware generation)                                         |\n",
        "| `Gender`          | Categorical | Male or Female                                                              |\n",
        "| `Age`             | Integer     | Age of the employee (based on education level and job title)                |\n",
        "| `Education_Level` | Categorical | One of: High School, Bachelor, Master, PhD                                  |\n",
        "| `Experience_Years`| Integer     | Number of years of professional experience                                  |\n",
        "| `Department`      | Categorical | Business unit (e.g., HR, Engineering, Marketing, etc.)                      |\n",
        "| `Job_Title`       | Categorical | Role of the employee (e.g., Analyst, Engineer, Manager, etc.)              |\n",
        "| `Location`        | Categorical | Work location (e.g., New York, San Francisco, etc.)                         |\n",
        "| `Salary`          | Integer     | Annual salary in USD — target variable for regression     |\n",
        "\n",
        "✅ Characteristics\n",
        "- ✅ No missing values — all entries are complete  \n",
        "- 📈 Realistic correlations, such as:\n",
        "  - 🎓 Higher education → 💼 Higher job levels → 💰 Higher salaries  \n",
        "  - 🧑‍🎓 Interns are younger and earn less  \n",
        "  - 🧠 PhDs tend to be older and hold senior roles  \n",
        "  - 🌍 Salary varies across departments and locations\n",
        "\n",
        "🎯 Applications\n",
        "- This dataset is well-suited for:\n",
        "\n",
        "- 🔢 Regression modeling (Linear, XGBoost, Random Forest, etc.)\n",
        "\n",
        "- 🛠️ Feature engineering and selection\n",
        "\n",
        "- 🧠 Categorical variable encoding (one-hot, label encoding, etc.)\n",
        "\n",
        "- 🔍 Hyperparameter tuning\n",
        "\n",
        "- ⚖️ Bias & fairness analysis (e.g., gender pay gap)\n",
        "\n",
        "- 📊 Exploratory Data Analysis (EDA) and visualization\n",
        "\n"
      ],
      "metadata": {
        "id": "NZNZr2fibkff"
      }
    },
    {
      "cell_type": "code",
      "source": [
        "df.head()"
      ],
      "metadata": {
        "id": "LWFOvzGibNwo"
      },
      "execution_count": null,
      "outputs": []
    },
    {
      "cell_type": "code",
      "source": [
        "df.Location.value_counts()"
      ],
      "metadata": {
        "id": "yCu1c-vAZ0UE"
      },
      "execution_count": null,
      "outputs": []
    },
    {
      "cell_type": "markdown",
      "source": [
        "#Data manipulation and data visualisation"
      ],
      "metadata": {
        "id": "u-dW9E4EYilI"
      }
    },
    {
      "cell_type": "code",
      "source": [
        "age_counts = df['Age'].value_counts().sort_index()\n",
        "\n",
        "\n",
        "fig = px.bar(\n",
        "    x=age_counts.index,\n",
        "    y=age_counts.values,\n",
        "    labels={'x': 'Age', 'y': 'Count'},\n",
        "    title='Age Distribution',\n",
        "    color_discrete_sequence=['#00CC96']\n",
        ")\n",
        "\n",
        "\n",
        "fig.update_layout(\n",
        "    xaxis_title='Age',\n",
        "    yaxis_title='Count',\n",
        "    plot_bgcolor='white',\n",
        "    title_font=dict(size=20),\n",
        "    xaxis=dict(showgrid=True, gridcolor='lightgrey'),\n",
        "    yaxis=dict(showgrid=True, gridcolor='lightgrey')\n",
        ")\n",
        "\n",
        "fig.show()"
      ],
      "metadata": {
        "id": "VS25z1J0vsRY"
      },
      "execution_count": null,
      "outputs": []
    },
    {
      "cell_type": "markdown",
      "source": [
        "**📊 Age Distribution Analysis**\n",
        "\n",
        "The age distribution of employees is skewed toward younger individuals, with the highest concentration between the ages of 23 and 30. Notably:\n",
        "\n",
        "- 📈 Ages 24–26 and 30 have the highest counts, each with over 500 employees.\n",
        "\n",
        "- 👥 The majority of employees fall between 23 and 40 years old.\n",
        "\n",
        "- 📉 After age 40, the distribution gradually declines, with significantly fewer employees over 50.\n",
        "\n",
        "- 🧓 Employees aged 55 and above represent a small portion of the dataset."
      ],
      "metadata": {
        "id": "mm1hVyrhpRic"
      }
    },
    {
      "cell_type": "code",
      "source": [
        "fig = px.histogram(df, x='Salary', nbins=20, title='Salary Distribution',\n",
        "                   labels={'Salary': 'Salary'},\n",
        "\n",
        "                   color_discrete_sequence=['#636EFA'])\n",
        "\n",
        "\n",
        "fig.update_layout(\n",
        "    bargap=0.1,\n",
        "    plot_bgcolor='white',\n",
        "    title_font=dict(size=20),\n",
        "    xaxis=dict(title='Salary', showgrid=True, gridcolor='lightgrey'),\n",
        "    yaxis=dict(title='Count', showgrid=True, gridcolor='lightgrey'),\n",
        ")\n",
        "\n",
        "fig.show()"
      ],
      "metadata": {
        "id": "a3DVFSfRggKz"
      },
      "execution_count": null,
      "outputs": []
    },
    {
      "cell_type": "markdown",
      "source": [
        "**💰 Salary Distribution Analysis**\n",
        "\n",
        "The histogram reveals a right-skewed distribution of salaries, indicating most employees earn on the lower to middle end of the salary spectrum.\n",
        "\n",
        "Key Observations:\n",
        "- 🏆 The most common salary range is $ 70,000 - 80,000, with the highest frequency (over 1,400 records).\n",
        "\n",
        "- 📊 A large number of employees also earn between $ 60,000 - 90,000.\n",
        "\n",
        "- 💼 Salaries above $150,000 are less frequent but still present in notable amounts.\n",
        "\n",
        "- 📉 Very high and very low salaries are rare\n",
        "\n"
      ],
      "metadata": {
        "id": "1wGjYHqLpgGV"
      }
    },
    {
      "cell_type": "code",
      "source": [
        "education_counts = df.groupby(['Department', 'Education_Level']).size().reset_index(name='Count')\n",
        "\n",
        "fig = px.bar(\n",
        "    education_counts,\n",
        "    x='Department',\n",
        "    y='Count',\n",
        "    color='Education_Level',\n",
        "    title='Education Level by Department',\n",
        "    labels={'Count': 'Count', 'Department': 'Department', 'Education_Level': 'Education Level'},\n",
        "    color_discrete_sequence=px.colors.qualitative.Pastel,\n",
        ")\n",
        "\n",
        "\n",
        "fig.update_layout(\n",
        "    barmode='stack',\n",
        "    xaxis_title='Department',\n",
        "    yaxis_title='Count',\n",
        "    plot_bgcolor='white',\n",
        "    title_font=dict(size=20),\n",
        "    xaxis=dict(tickangle=45, showgrid=False),\n",
        "    yaxis=dict(showgrid=True, gridcolor='lightgrey'),\n",
        "    legend_title_text='Education Level'\n",
        ")\n",
        "\n",
        "fig.show()"
      ],
      "metadata": {
        "id": "grwWQxqhv3yF"
      },
      "execution_count": null,
      "outputs": []
    },
    {
      "cell_type": "markdown",
      "source": [
        "**🎓 Education Level by Department**\n",
        "\n",
        "This stacked bar chart displays the distribution of education levels (Bachelor, Master, PhD) across various departments.\n",
        "\n",
        "Key Insights:\n",
        "- 👨‍💻 Engineering has the highest number of employees with Bachelor's degrees, indicating a strong foundation in undergraduate education for technical roles.\n",
        "\n",
        "- 🧮 Finance, HR, and Product departments have a higher proportion of employees with Master’s degrees, reflecting the need for specialized knowledge in these fields.\n",
        "\n",
        "- 📈 PhD holders are relatively evenly distributed, but HR and Product show a slightly higher presence of doctorate-level employees.\n",
        "\n",
        "- 📊 In all departments, the Master's degree is the most common education level, followed by Bachelor, then PhD."
      ],
      "metadata": {
        "id": "NY_0dexEqTZa"
      }
    },
    {
      "source": [
        "job_counts = df['Job_Title'].value_counts().reset_index()\n",
        "job_counts.columns = ['Job_Title', 'Count']\n",
        "\n",
        "fig = px.bar(\n",
        "    job_counts,\n",
        "    x='Job_Title',\n",
        "    y='Count',\n",
        "    title='Number of Employees per Job Title',\n",
        "    color='Job_Title',\n",
        "    color_discrete_sequence=px.colors.qualitative.Dark2\n",
        ")\n",
        "\n",
        "fig.update_layout(\n",
        "    xaxis_title='Job Title',\n",
        "    yaxis_title='Count',\n",
        "    plot_bgcolor='white',\n",
        "    title_font=dict(size=20),\n",
        "    xaxis=dict(tickangle=45, showgrid=False),\n",
        "    yaxis=dict(showgrid=True, gridcolor='lightgrey'),\n",
        "    showlegend=False\n",
        ")\n",
        "\n",
        "fig.show()"
      ],
      "cell_type": "code",
      "execution_count": null,
      "outputs": [],
      "metadata": {
        "id": "vzIpV4TOcNJ5"
      }
    },
    {
      "cell_type": "markdown",
      "source": [
        "**💼 Number of Employees per Job Title**\n",
        "\n",
        "This bar chart presents the distribution of employees across different job titles.\n",
        "\n",
        "Key Insights:\n",
        "- 👔 Managers form the largest group in the dataset, with over 3,000 employees. This suggests that many roles may have managerial responsibilities or titles.\n",
        "\n",
        "- 📊 Analysts are the second most common, showing the importance of data and business analysis across departments.\n",
        "\n",
        "- 🧑‍💼 Executives follow, representing a significant portion of leadership or senior decision-making roles.\n",
        "\n",
        "- 🛠️ Engineers are fewer in number compared to managerial and analytical roles, despite being essential to technical departments.\n",
        "\n",
        "- 🎓 Interns are the least represented, indicating either a limited internship program or a focus on full-time positions."
      ],
      "metadata": {
        "id": "UKogoNj3qSXy"
      }
    },
    {
      "cell_type": "code",
      "source": [
        "df[\"Gender_encoded\"]=(df['Gender']==\"Male\").astype(int)"
      ],
      "metadata": {
        "id": "QDffxxXsYBvM"
      },
      "execution_count": null,
      "outputs": []
    },
    {
      "cell_type": "code",
      "source": [
        "df_dummies = pd.get_dummies(df.drop(columns = [\"Name\", \"Employee_ID\", \"Gender\"]), drop_first=True)"
      ],
      "metadata": {
        "id": "mevvktaWZYon"
      },
      "execution_count": null,
      "outputs": []
    },
    {
      "cell_type": "code",
      "source": [
        "df_dummies.head()"
      ],
      "metadata": {
        "id": "7SvjkXJAfj6x"
      },
      "execution_count": null,
      "outputs": []
    },
    {
      "cell_type": "markdown",
      "source": [
        "#Model construction"
      ],
      "metadata": {
        "id": "Y9pCIcmYZF7s"
      }
    },
    {
      "cell_type": "code",
      "source": [
        "def model_fit(df, model):\n",
        "    x = df.drop(columns=['Salary'])\n",
        "    y = df['Salary']\n",
        "    x_train, x_test, y_train, y_test = train_test_split(x, y, test_size=0.2, random_state=42)\n",
        "    model.fit(x_train, y_train)\n",
        "    y_pred = model.predict(x_test)\n",
        "    mse = mean_squared_error(y_test, y_pred)\n",
        "    r2 = r2_score(y_test, y_pred)\n",
        "    print('MSE:', mse)\n",
        "    print('R2:', r2)\n",
        "    residuals = y_test - y_pred\n",
        "    plt.figure(figsize=(7, 4))\n",
        "    sns.histplot(residuals, bins=40, kde=True)\n",
        "    plt.axvline(0, color='red', linestyle='--')\n",
        "    plt.title('Distribution of Residuals')\n",
        "    plt.xlabel('Error (Actual - Predicted)')\n",
        "    plt.ylabel('Frequency')\n",
        "    plt.grid(True)\n",
        "    plt.show()\n",
        "\n",
        "    return y_pred, mse, r2, model"
      ],
      "metadata": {
        "id": "B93T1KT4hM-b"
      },
      "execution_count": null,
      "outputs": []
    },
    {
      "cell_type": "markdown",
      "source": [
        "#Fit and prediction"
      ],
      "metadata": {
        "id": "ARqQjHFVZLks"
      }
    },
    {
      "cell_type": "code",
      "source": [
        "# from sklearn.model_selection import GridSearchCV\n",
        "\n",
        "# param_grid = {\n",
        "#     'n_estimators': [100, 200, 300],\n",
        "#     'max_depth': [3, 5, 7],\n",
        "#     'learning_rate': [0.01, 0.05, 0.1],\n",
        "# }\n",
        "\n",
        "# grid = GridSearchCV(xgb.XGBRegressor(objective='reg:squarederror'), param_grid, scoring='neg_mean_absolute_error')\n",
        "# grid.fit(X_train, y_train)\n",
        "\n",
        "# print(\"Best params:\", grid.best_params_)\n",
        "# best_params = grid.best_params_\n",
        "\n",
        "# Best params: {'learning_rate': 0.05, 'max_depth': 3, 'min_child_weight': 5, 'n_estimators': 300, 'subsample': 1}"
      ],
      "metadata": {
        "id": "vMiVE5GrhNKw"
      },
      "execution_count": null,
      "outputs": []
    },
    {
      "cell_type": "code",
      "source": [
        "%%time\n",
        "best_params = {\n",
        "    'learning_rate': 0.04,\n",
        "    'max_depth': 3,\n",
        "    'min_child_weight': 20,\n",
        "    'n_estimators': 500,\n",
        "}\n",
        "model_fit(df_dummies, xgb.XGBRegressor(objective='reg:squarederror', **best_params))"
      ],
      "metadata": {
        "id": "10bG2hYFdXL5"
      },
      "execution_count": null,
      "outputs": []
    },
    {
      "cell_type": "code",
      "source": [
        "%%time\n",
        "_, _,_,model_trained = model_fit(df_dummies, LinearRegression())"
      ],
      "metadata": {
        "id": "P3d5faYwboxq"
      },
      "execution_count": null,
      "outputs": []
    },
    {
      "cell_type": "markdown",
      "source": [
        "| Model           | MSE (Mean Squared Error) | R² (Coefficient of Determination) | Training Time (approx.) |\n",
        "|-----------------|--------------------------|----------------------------------|------------------------|\n",
        "| XGBRegressor    | 17,974,718               | 0.9915                           | ~0.8 sec               |\n",
        "| LinearRegression| 17,375,021               | 0.9918                           | ~0.27 sec              |\n",
        "\n",
        "Model Comparison Conclusion:\n",
        "\n",
        "The Linear Regression model slightly outperformed the XGBoost model on this dataset, achieving a lower Mean Squared Error (MSE) and a marginally higher R² score. The XGBoost model was trained using optimized hyperparameters selected via a parameter grid search (param_grid), demonstrating strong performance as well.\n",
        "\n",
        "Linear Regression trains faster and is simpler, making it a good choice for interpretability and quick results. XGBoost, being a more complex and flexible model, may offer better results on more complex datasets.\n",
        "\n",
        "In summary, while Linear Regression performed better here, XGBoost remains a powerful alternative worth exploring depending on the problem complexity and computational resources.\n"
      ],
      "metadata": {
        "id": "ffdlbaiqhyOA"
      }
    },
    {
      "cell_type": "markdown",
      "source": [
        "#New Data Entery"
      ],
      "metadata": {
        "id": "PgaL7y5ZomSq"
      }
    },
    {
      "cell_type": "code",
      "source": [
        "categorical_features = ['Gender', 'Department', 'Job_Title', 'Education_Level', 'Location']\n",
        "numeric_features = ['Age', 'Experience_Years']\n",
        "\n",
        "preprocessor = ColumnTransformer(\n",
        "    transformers=[\n",
        "        ('num', 'passthrough', numeric_features),\n",
        "        ('cat', OneHotEncoder(drop='first'), categorical_features)\n",
        "    ])\n",
        "\n",
        "model = Pipeline([\n",
        "    ('preprocessor', preprocessor),\n",
        "    ('regressor', LinearRegression())\n",
        "])\n",
        "\n",
        "\n",
        "X = df.drop(columns=['Salary', 'Name', 'Employee_ID'])\n",
        "y = df['Salary']\n",
        "model.fit(X, y)\n",
        "\n",
        "\n",
        "new_example = pd.DataFrame({\n",
        "    'Age': [24],\n",
        "    'Gender': ['Female'],\n",
        "    'Department': ['Product'],\n",
        "    'Job_Title': ['Executive'],\n",
        "    'Experience_Years': [2],\n",
        "    'Education_Level': ['Bachelor'],\n",
        "    'Location': ['Austin']\n",
        "})\n",
        "\n",
        "predicted_salary = model.predict(new_example)\n",
        "print(\"Estimated Salary : $\", predicted_salary[0])\n"
      ],
      "metadata": {
        "id": "7s2ivxvYiNxq"
      },
      "execution_count": null,
      "outputs": []
    },
    {
      "cell_type": "code",
      "source": [
        "age_slider = widgets.IntSlider(min=18, max=65, step=1, value=24, description='Age:')\n",
        "gender_dropdown = widgets.Dropdown(options=['Male', 'Female'], description='Gender:')\n",
        "department_dropdown = widgets.Dropdown(options=df['Department'].unique(), description='Department:')\n",
        "job_title_dropdown = widgets.Dropdown(options=df['Job_Title'].unique(), description='Job Title:')\n",
        "experience_slider = widgets.IntSlider(min=0, max=40, step=1, value=1, description='Experience (years):')\n",
        "education_dropdown = widgets.Dropdown(options=df['Education_Level'].unique(), description='Education:')\n",
        "location_dropdown = widgets.Dropdown(options=df['Location'].unique(), description='Location:')\n",
        "\n",
        "output = widgets.Output()\n",
        "\n",
        "def predict_salary(change=None):\n",
        "    with output:\n",
        "        clear_output()\n",
        "\n",
        "        input_data = pd.DataFrame({\n",
        "            'Age': [age_slider.value],\n",
        "            'Gender': [gender_dropdown.value],\n",
        "            'Department': [department_dropdown.value],\n",
        "            'Job_Title': [job_title_dropdown.value],\n",
        "            'Experience_Years': [experience_slider.value],\n",
        "            'Education_Level': [education_dropdown.value],\n",
        "            'Location': [location_dropdown.value]\n",
        "        })\n",
        "\n",
        "        predicted_salary = model.predict(input_data)\n",
        "\n",
        "        print(f\"Estimated Salary : ${predicted_salary[0]:,.2f}\")\n",
        "\n",
        "age_slider.observe(predict_salary, names='value')\n",
        "gender_dropdown.observe(predict_salary, names='value')\n",
        "department_dropdown.observe(predict_salary, names='value')\n",
        "job_title_dropdown.observe(predict_salary, names='value')\n",
        "experience_slider.observe(predict_salary, names='value')\n",
        "education_dropdown.observe(predict_salary, names='value')\n",
        "location_dropdown.observe(predict_salary, names='value')\n",
        "\n",
        "display(age_slider, gender_dropdown, department_dropdown, job_title_dropdown,\n",
        "        experience_slider, education_dropdown, location_dropdown, output)\n",
        "\n",
        "predict_salary()"
      ],
      "metadata": {
        "id": "zVDNRq9qaDl0"
      },
      "execution_count": null,
      "outputs": []
    }
  ]
}